{
 "cells": [
  {
   "cell_type": "code",
   "execution_count": 1,
   "id": "e5925ef5",
   "metadata": {},
   "outputs": [],
   "source": [
    "import numpy as np\n",
    "import pandas as pd"
   ]
  },
  {
   "cell_type": "markdown",
   "id": "797a7988",
   "metadata": {},
   "source": [
    "## Creating series using pd.Series()"
   ]
  },
  {
   "cell_type": "code",
   "execution_count": 3,
   "id": "a9238ca7",
   "metadata": {},
   "outputs": [
    {
     "data": {
      "text/plain": [
       "0     2\n",
       "1     4\n",
       "2     6\n",
       "3     8\n",
       "4    10\n",
       "dtype: int64"
      ]
     },
     "execution_count": 3,
     "metadata": {},
     "output_type": "execute_result"
    }
   ],
   "source": [
    "number_list = [2,4,6,8,10]\n",
    "\n",
    "pd.Series(number_list)"
   ]
  },
  {
   "cell_type": "code",
   "execution_count": 11,
   "id": "86db69da",
   "metadata": {},
   "outputs": [
    {
     "data": {
      "text/plain": [
       "a    Jan\n",
       "b    Feb\n",
       "c    Mar\n",
       "d    Apr\n",
       "e    Mei\n",
       "f    Jun\n",
       "g    Jul\n",
       "h    Aug\n",
       "i    Sep\n",
       "j    Oct\n",
       "k    Nov\n",
       "l    Des\n",
       "dtype: object"
      ]
     },
     "execution_count": 11,
     "metadata": {},
     "output_type": "execute_result"
    }
   ],
   "source": [
    "month = ['Jan', 'Feb', 'Mar', 'Apr', 'Mei', 'Jun', 'Jul', 'Aug', 'Sep', 'Oct', 'Nov', 'Des']\n",
    "\n",
    "#Specific Index\n",
    "month_in_year = pd.Series(month, index = [\"a\",\"b\",\"c\",\"d\",\"e\",\"f\",\"g\",\"h\",\"i\",\"j\",\"k\",\"l\"])\n",
    "\n",
    "month_in_year"
   ]
  },
  {
   "cell_type": "code",
   "execution_count": 18,
   "id": "c969e7ad",
   "metadata": {},
   "outputs": [
    {
     "data": {
      "text/plain": [
       "1       United States\n",
       "44     United Kingdom\n",
       "62          Indonesia\n",
       "91              India\n",
       "966      Saudi Arabia\n",
       "dtype: object"
      ]
     },
     "execution_count": 18,
     "metadata": {},
     "output_type": "execute_result"
    }
   ],
   "source": [
    "dialing_code = { 1: \"United States\",\n",
    "               44: \"United Kingdom\",\n",
    "               62: \"Indonesia\",\n",
    "               91: \"India\",\n",
    "               966: \"Saudi Arabia\"}\n",
    "\n",
    "pd.Series(dialing_code)"
   ]
  },
  {
   "cell_type": "code",
   "execution_count": 14,
   "id": "e464df6c",
   "metadata": {},
   "outputs": [
    {
     "data": {
      "text/plain": [
       "0    1\n",
       "1    3\n",
       "2    5\n",
       "3    7\n",
       "4    9\n",
       "dtype: int64"
      ]
     },
     "execution_count": 14,
     "metadata": {},
     "output_type": "execute_result"
    }
   ],
   "source": [
    "arr_odd = np.array ([1, 3, 5, 7, 9])\n",
    "pd.Series(arr_odd)"
   ]
  },
  {
   "cell_type": "markdown",
   "id": "653b5784",
   "metadata": {},
   "source": [
    "## Creating Dataframes  using pd.Dataframe"
   ]
  },
  {
   "cell_type": "code",
   "execution_count": 17,
   "id": "f970c92b",
   "metadata": {},
   "outputs": [
    {
     "data": {
      "text/html": [
       "<div>\n",
       "<style scoped>\n",
       "    .dataframe tbody tr th:only-of-type {\n",
       "        vertical-align: middle;\n",
       "    }\n",
       "\n",
       "    .dataframe tbody tr th {\n",
       "        vertical-align: top;\n",
       "    }\n",
       "\n",
       "    .dataframe thead th {\n",
       "        text-align: right;\n",
       "    }\n",
       "</style>\n",
       "<table border=\"1\" class=\"dataframe\">\n",
       "  <thead>\n",
       "    <tr style=\"text-align: right;\">\n",
       "      <th></th>\n",
       "      <th>column 1</th>\n",
       "      <th>column 2</th>\n",
       "      <th>column 3</th>\n",
       "    </tr>\n",
       "  </thead>\n",
       "  <tbody>\n",
       "    <tr>\n",
       "      <th>0</th>\n",
       "      <td>1</td>\n",
       "      <td>2</td>\n",
       "      <td>3</td>\n",
       "    </tr>\n",
       "    <tr>\n",
       "      <th>1</th>\n",
       "      <td>4</td>\n",
       "      <td>5</td>\n",
       "      <td>6</td>\n",
       "    </tr>\n",
       "    <tr>\n",
       "      <th>2</th>\n",
       "      <td>7</td>\n",
       "      <td>8</td>\n",
       "      <td>9</td>\n",
       "    </tr>\n",
       "  </tbody>\n",
       "</table>\n",
       "</div>"
      ],
      "text/plain": [
       "   column 1  column 2  column 3\n",
       "0         1         2         3\n",
       "1         4         5         6\n",
       "2         7         8         9"
      ]
     },
     "execution_count": 17,
     "metadata": {},
     "output_type": "execute_result"
    }
   ],
   "source": [
    "array_2d = np.array([[1,2,3], [4,5,6], [7,8,9]])\n",
    "\n",
    "pd.DataFrame(array_2d, columns = ['column 1', 'column 2', 'column 3'])"
   ]
  },
  {
   "cell_type": "code",
   "execution_count": null,
   "id": "51f370d3",
   "metadata": {},
   "outputs": [],
   "source": []
  }
 ],
 "metadata": {
  "kernelspec": {
   "display_name": "Python 3 (ipykernel)",
   "language": "python",
   "name": "python3"
  },
  "language_info": {
   "codemirror_mode": {
    "name": "ipython",
    "version": 3
   },
   "file_extension": ".py",
   "mimetype": "text/x-python",
   "name": "python",
   "nbconvert_exporter": "python",
   "pygments_lexer": "ipython3",
   "version": "3.8.11"
  }
 },
 "nbformat": 4,
 "nbformat_minor": 5
}
