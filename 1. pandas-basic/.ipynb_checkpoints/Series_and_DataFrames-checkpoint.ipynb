{
 "cells": [
  {
   "cell_type": "code",
   "execution_count": 1,
   "id": "e5925ef5",
   "metadata": {},
   "outputs": [],
   "source": [
    "import numpy as np\n",
    "import pandas as pd"
   ]
  },
  {
   "cell_type": "markdown",
   "id": "a0dc2da4",
   "metadata": {},
   "source": [
    "## Creating series using pd.Series()"
   ]
  },
  {
   "cell_type": "code",
   "execution_count": 3,
   "id": "bd30796a",
   "metadata": {},
   "outputs": [
    {
     "data": {
      "text/plain": [
       "0     2\n",
       "1     4\n",
       "2     6\n",
       "3     8\n",
       "4    10\n",
       "dtype: int64"
      ]
     },
     "execution_count": 3,
     "metadata": {},
     "output_type": "execute_result"
    }
   ],
   "source": [
    "number_list = [2,4,6,8,10]\n",
    "\n",
    "pd.Series(number_list)"
   ]
  },
  {
   "cell_type": "code",
   "execution_count": 8,
   "id": "eb185966",
   "metadata": {},
   "outputs": [
    {
     "data": {
      "text/plain": [
       "0     Jan\n",
       "1     Feb\n",
       "2     Mar\n",
       "3     Apr\n",
       "4     Mei\n",
       "5     Jun\n",
       "6     Jul\n",
       "7     Aug\n",
       "8     Sep\n",
       "9     Oct\n",
       "10    Nov\n",
       "11    Des\n",
       "dtype: object"
      ]
     },
     "execution_count": 8,
     "metadata": {},
     "output_type": "execute_result"
    }
   ],
   "source": [
    "month = ['Jan', 'Feb', 'Mar', 'Apr', 'Mei', 'Jun', 'Jul', 'Aug', 'Sep', 'Oct', 'Nov', 'Des']\n",
    "\n",
    "month_in_year = pd.Series(month, index = [0,1,2,3,4,5,6,7,8,9,10,11])\n",
    "\n",
    "month_in_year"
   ]
  },
  {
   "cell_type": "code",
   "execution_count": null,
   "id": "9b09af8f",
   "metadata": {},
   "outputs": [],
   "source": [
    "dialing_code = { 1: \"United States\",\n",
    "               44: \"United Kingdom\",\n",
    "               62: \"Indonesia\",\n",
    "               65: \"Singapore\",\n",
    "               91: \"India\",\n",
    "               966: \"Saudi Arabia\"}"
   ]
  }
 ],
 "metadata": {
  "kernelspec": {
   "display_name": "Python 3 (ipykernel)",
   "language": "python",
   "name": "python3"
  },
  "language_info": {
   "codemirror_mode": {
    "name": "ipython",
    "version": 3
   },
   "file_extension": ".py",
   "mimetype": "text/x-python",
   "name": "python",
   "nbconvert_exporter": "python",
   "pygments_lexer": "ipython3",
   "version": "3.8.11"
  }
 },
 "nbformat": 4,
 "nbformat_minor": 5
}
